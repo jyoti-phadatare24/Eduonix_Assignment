{
 "cells": [
  {
   "cell_type": "markdown",
   "id": "1aceb519",
   "metadata": {},
   "source": [
    "## 1). Create a tuple called data with two values, (1, 2) and (3, 4)"
   ]
  },
  {
   "cell_type": "code",
   "execution_count": 1,
   "id": "5bbe1f17",
   "metadata": {},
   "outputs": [
    {
     "name": "stdout",
     "output_type": "stream",
     "text": [
      "((1, 2), (3, 4))\n"
     ]
    },
    {
     "data": {
      "text/plain": [
       "tuple"
      ]
     },
     "execution_count": 1,
     "metadata": {},
     "output_type": "execute_result"
    }
   ],
   "source": [
    "data=((1, 2),(3, 4))\n",
    "print(data)\n",
    "type(data)"
   ]
  },
  {
   "cell_type": "markdown",
   "id": "828b2d49",
   "metadata": {},
   "source": [
    "## 2). Create the list [4, 3, 2, 1] and assign it to variable numbers."
   ]
  },
  {
   "cell_type": "code",
   "execution_count": 2,
   "id": "8217b882",
   "metadata": {},
   "outputs": [
    {
     "name": "stdout",
     "output_type": "stream",
     "text": [
      "[4, 3, 2, 1]\n"
     ]
    },
    {
     "data": {
      "text/plain": [
       "list"
      ]
     },
     "execution_count": 2,
     "metadata": {},
     "output_type": "execute_result"
    }
   ],
   "source": [
    "numbers = [4, 3, 2, 1]\n",
    "print(numbers)\n",
    "type(numbers)"
   ]
  },
  {
   "cell_type": "markdown",
   "id": "a4f9ce07",
   "metadata": {},
   "source": [
    "## 3). Create a copy of the number list using [:]"
   ]
  },
  {
   "cell_type": "code",
   "execution_count": 10,
   "id": "9a70183e",
   "metadata": {},
   "outputs": [
    {
     "data": {
      "text/plain": [
       "[4, 3, 2, 1]"
      ]
     },
     "execution_count": 10,
     "metadata": {},
     "output_type": "execute_result"
    }
   ],
   "source": [
    "numbers_copy=numbers[:]\n",
    "numbers_copy"
   ]
  },
  {
   "cell_type": "markdown",
   "id": "cd3bb974",
   "metadata": {},
   "source": [
    "##  4). Sort the numbers list in numerical order"
   ]
  },
  {
   "cell_type": "code",
   "execution_count": 11,
   "id": "c747803f",
   "metadata": {},
   "outputs": [
    {
     "data": {
      "text/plain": [
       "[1, 2, 3, 4]"
      ]
     },
     "execution_count": 11,
     "metadata": {},
     "output_type": "execute_result"
    }
   ],
   "source": [
    "numbers.sort()\n",
    "numbers"
   ]
  },
  {
   "cell_type": "markdown",
   "id": "5e11154e",
   "metadata": {},
   "source": [
    "## 5). Create a tuple \"cardinal_numbers\" with \"first\", \"second\" and \"third\""
   ]
  },
  {
   "cell_type": "code",
   "execution_count": 14,
   "id": "42b4327e",
   "metadata": {},
   "outputs": [
    {
     "data": {
      "text/plain": [
       "('first', 'second', 'third')"
      ]
     },
     "execution_count": 14,
     "metadata": {},
     "output_type": "execute_result"
    }
   ],
   "source": [
    "cardinal_numbers=(\"first\", \"second\", \"third\")\n",
    "cardinal_numbers"
   ]
  },
  {
   "cell_type": "markdown",
   "id": "f5be944d",
   "metadata": {},
   "source": [
    "## 6). Display the second object in the tuple"
   ]
  },
  {
   "cell_type": "code",
   "execution_count": 15,
   "id": "60fa7d15",
   "metadata": {},
   "outputs": [
    {
     "data": {
      "text/plain": [
       "'second'"
      ]
     },
     "execution_count": 15,
     "metadata": {},
     "output_type": "execute_result"
    }
   ],
   "source": [
    "cardinal_numbers[1]"
   ]
  },
  {
   "cell_type": "markdown",
   "id": "c69744c9",
   "metadata": {},
   "source": [
    "## 7). Unpack the tuple into three strings and display them "
   ]
  },
  {
   "cell_type": "code",
   "execution_count": 16,
   "id": "42991022",
   "metadata": {},
   "outputs": [
    {
     "name": "stdout",
     "output_type": "stream",
     "text": [
      "first\n",
      "second\n",
      "third\n"
     ]
    }
   ],
   "source": [
    "first_number, second_number, third_number=cardinal_numbers\n",
    "print(first_number)\n",
    "print(second_number)\n",
    "print(third_number)"
   ]
  },
  {
   "cell_type": "markdown",
   "id": "39c0722f",
   "metadata": {},
   "source": [
    "## 8). Create a tuple containing the letters of your name from a string"
   ]
  },
  {
   "cell_type": "code",
   "execution_count": 6,
   "id": "938f5250",
   "metadata": {},
   "outputs": [
    {
     "data": {
      "text/plain": [
       "('j', 'y', 'o', 't', 'i')"
      ]
     },
     "execution_count": 6,
     "metadata": {},
     "output_type": "execute_result"
    }
   ],
   "source": [
    "my_name = tuple('jyoti')\n",
    "my_name"
   ]
  },
  {
   "cell_type": "markdown",
   "id": "87d8b3eb",
   "metadata": {},
   "source": [
    "## 9) Check whether or not x is in my_name"
   ]
  },
  {
   "cell_type": "code",
   "execution_count": 8,
   "id": "7b630caa",
   "metadata": {},
   "outputs": [
    {
     "name": "stdout",
     "output_type": "stream",
     "text": [
      "False\n"
     ]
    }
   ],
   "source": [
    "print('x' in my_name)"
   ]
  },
  {
   "cell_type": "markdown",
   "id": "81924999",
   "metadata": {},
   "source": [
    "## 10) Check whether or not s is in my_name"
   ]
  },
  {
   "cell_type": "code",
   "execution_count": 9,
   "id": "9df5fad2",
   "metadata": {},
   "outputs": [
    {
     "name": "stdout",
     "output_type": "stream",
     "text": [
      "False\n"
     ]
    }
   ],
   "source": [
    "print('s' in my_name)"
   ]
  },
  {
   "cell_type": "code",
   "execution_count": null,
   "id": "ddd4e2a8",
   "metadata": {},
   "outputs": [],
   "source": []
  }
 ],
 "metadata": {
  "kernelspec": {
   "display_name": "Python 3 (ipykernel)",
   "language": "python",
   "name": "python3"
  },
  "language_info": {
   "codemirror_mode": {
    "name": "ipython",
    "version": 3
   },
   "file_extension": ".py",
   "mimetype": "text/x-python",
   "name": "python",
   "nbconvert_exporter": "python",
   "pygments_lexer": "ipython3",
   "version": "3.10.9"
  }
 },
 "nbformat": 4,
 "nbformat_minor": 5
}
